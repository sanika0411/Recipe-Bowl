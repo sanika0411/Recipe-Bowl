{
 "cells": [
  {
   "cell_type": "code",
   "execution_count": null,
   "id": "fc0d68c8-c306-4bd1-b726-56c239640cb4",
   "metadata": {},
   "outputs": [],
   "source": [
    "import numpy as np\n",
    "import pandas as pd"
   ]
  },
  {
   "cell_type": "code",
   "execution_count": null,
   "id": "929b547d-ea54-4d29-9226-04ea3dfcaf26",
   "metadata": {},
   "outputs": [],
   "source": [
    "recipe = pd.read_csv('Cleaned_Indian_Food_Dataset.csv')"
   ]
  },
  {
   "cell_type": "code",
   "execution_count": null,
   "id": "d0b9893a-01b5-48bb-8635-ad2c3e584c64",
   "metadata": {},
   "outputs": [
    {
     "data": {
      "text/html": [
       "<div>\n",
       "<style scoped>\n",
       "    .dataframe tbody tr th:only-of-type {\n",
       "        vertical-align: middle;\n",
       "    }\n",
       "\n",
       "    .dataframe tbody tr th {\n",
       "        vertical-align: top;\n",
       "    }\n",
       "\n",
       "    .dataframe thead th {\n",
       "        text-align: right;\n",
       "    }\n",
       "</style>\n",
       "<table border=\"1\" class=\"dataframe\">\n",
       "  <thead>\n",
       "    <tr style=\"text-align: right;\">\n",
       "      <th></th>\n",
       "      <th>id</th>\n",
       "      <th>name</th>\n",
       "      <th>totalingredients</th>\n",
       "      <th>TotalTimeInMins</th>\n",
       "      <th>Cuisine</th>\n",
       "      <th>steps</th>\n",
       "      <th>url</th>\n",
       "      <th>ingredients</th>\n",
       "      <th>image-url</th>\n",
       "      <th>Ingredient-count</th>\n",
       "    </tr>\n",
       "  </thead>\n",
       "  <tbody>\n",
       "    <tr>\n",
       "      <th>0</th>\n",
       "      <td>1</td>\n",
       "      <td>Masala Karela Recipe</td>\n",
       "      <td>1 tablespoon Red Chilli powder,3 tablespoon Gr...</td>\n",
       "      <td>45</td>\n",
       "      <td>Indian</td>\n",
       "      <td>To begin making the Masala Karela Recipe,de-se...</td>\n",
       "      <td>https://www.archanaskitchen.com/masala-karela-...</td>\n",
       "      <td>salt,amchur (dry mango powder),karela (bitter ...</td>\n",
       "      <td>https://www.archanaskitchen.com/images/archana...</td>\n",
       "      <td>10</td>\n",
       "    </tr>\n",
       "    <tr>\n",
       "      <th>1</th>\n",
       "      <td>2</td>\n",
       "      <td>Spicy Tomato Rice (Recipe)</td>\n",
       "      <td>2 teaspoon cashew - or peanuts, 1/2 Teaspoon ...</td>\n",
       "      <td>15</td>\n",
       "      <td>South Indian Recipes</td>\n",
       "      <td>To make tomato puliogere, first cut the tomato...</td>\n",
       "      <td>https://www.archanaskitchen.com/spicy-tomato-r...</td>\n",
       "      <td>tomato,salt,chickpea lentils,green chilli,rice...</td>\n",
       "      <td>https://www.archanaskitchen.com/images/archana...</td>\n",
       "      <td>12</td>\n",
       "    </tr>\n",
       "    <tr>\n",
       "      <th>2</th>\n",
       "      <td>3</td>\n",
       "      <td>Ragi Semiya Upma Recipe - Ragi Millet Vermicel...</td>\n",
       "      <td>1 Onion - sliced,1 teaspoon White Urad Dal (Sp...</td>\n",
       "      <td>50</td>\n",
       "      <td>South Indian Recipes</td>\n",
       "      <td>To begin making the Ragi Vermicelli Recipe, fi...</td>\n",
       "      <td>https://www.archanaskitchen.com/ragi-vermicell...</td>\n",
       "      <td>salt,rice vermicelli noodles (thin),asafoetida...</td>\n",
       "      <td>https://www.archanaskitchen.com/images/archana...</td>\n",
       "      <td>12</td>\n",
       "    </tr>\n",
       "    <tr>\n",
       "      <th>3</th>\n",
       "      <td>4</td>\n",
       "      <td>Gongura Chicken Curry Recipe - Andhra Style Go...</td>\n",
       "      <td>1/2 teaspoon Turmeric powder (Haldi),1 tablesp...</td>\n",
       "      <td>45</td>\n",
       "      <td>Andhra</td>\n",
       "      <td>To begin making Gongura Chicken Curry Recipe f...</td>\n",
       "      <td>https://www.archanaskitchen.com/gongura-chicke...</td>\n",
       "      <td>tomato,salt,ginger,sorrel leaves (gongura),fen...</td>\n",
       "      <td>https://www.archanaskitchen.com/images/archana...</td>\n",
       "      <td>15</td>\n",
       "    </tr>\n",
       "    <tr>\n",
       "      <th>4</th>\n",
       "      <td>5</td>\n",
       "      <td>Andhra Style Alam Pachadi Recipe - Adrak Chutn...</td>\n",
       "      <td>oil - as per use, 1 tablespoon coriander seed...</td>\n",
       "      <td>30</td>\n",
       "      <td>Andhra</td>\n",
       "      <td>To make Andhra Style Alam Pachadi, first heat ...</td>\n",
       "      <td>https://www.archanaskitchen.com/andhra-style-a...</td>\n",
       "      <td>tomato,salt,ginger,red chillies,curry,asafoeti...</td>\n",
       "      <td>https://www.archanaskitchen.com/images/archana...</td>\n",
       "      <td>12</td>\n",
       "    </tr>\n",
       "  </tbody>\n",
       "</table>\n",
       "</div>"
      ],
      "text/plain": [
       "   id                                               name  \\\n",
       "0   1                               Masala Karela Recipe   \n",
       "1   2                         Spicy Tomato Rice (Recipe)   \n",
       "2   3  Ragi Semiya Upma Recipe - Ragi Millet Vermicel...   \n",
       "3   4  Gongura Chicken Curry Recipe - Andhra Style Go...   \n",
       "4   5  Andhra Style Alam Pachadi Recipe - Adrak Chutn...   \n",
       "\n",
       "                                    totalingredients  TotalTimeInMins  \\\n",
       "0  1 tablespoon Red Chilli powder,3 tablespoon Gr...               45   \n",
       "1   2 teaspoon cashew - or peanuts, 1/2 Teaspoon ...               15   \n",
       "2  1 Onion - sliced,1 teaspoon White Urad Dal (Sp...               50   \n",
       "3  1/2 teaspoon Turmeric powder (Haldi),1 tablesp...               45   \n",
       "4   oil - as per use, 1 tablespoon coriander seed...               30   \n",
       "\n",
       "                Cuisine                                              steps  \\\n",
       "0                Indian  To begin making the Masala Karela Recipe,de-se...   \n",
       "1  South Indian Recipes  To make tomato puliogere, first cut the tomato...   \n",
       "2  South Indian Recipes  To begin making the Ragi Vermicelli Recipe, fi...   \n",
       "3                Andhra  To begin making Gongura Chicken Curry Recipe f...   \n",
       "4                Andhra  To make Andhra Style Alam Pachadi, first heat ...   \n",
       "\n",
       "                                                 url  \\\n",
       "0  https://www.archanaskitchen.com/masala-karela-...   \n",
       "1  https://www.archanaskitchen.com/spicy-tomato-r...   \n",
       "2  https://www.archanaskitchen.com/ragi-vermicell...   \n",
       "3  https://www.archanaskitchen.com/gongura-chicke...   \n",
       "4  https://www.archanaskitchen.com/andhra-style-a...   \n",
       "\n",
       "                                         ingredients  \\\n",
       "0  salt,amchur (dry mango powder),karela (bitter ...   \n",
       "1  tomato,salt,chickpea lentils,green chilli,rice...   \n",
       "2  salt,rice vermicelli noodles (thin),asafoetida...   \n",
       "3  tomato,salt,ginger,sorrel leaves (gongura),fen...   \n",
       "4  tomato,salt,ginger,red chillies,curry,asafoeti...   \n",
       "\n",
       "                                           image-url  Ingredient-count  \n",
       "0  https://www.archanaskitchen.com/images/archana...                10  \n",
       "1  https://www.archanaskitchen.com/images/archana...                12  \n",
       "2  https://www.archanaskitchen.com/images/archana...                12  \n",
       "3  https://www.archanaskitchen.com/images/archana...                15  \n",
       "4  https://www.archanaskitchen.com/images/archana...                12  "
      ]
     },
     "execution_count": 10,
     "metadata": {},
     "output_type": "execute_result"
    }
   ],
   "source": [
    "recipe.head()"
   ]
  },
  {
   "cell_type": "code",
   "execution_count": null,
   "id": "59aa0d41-8766-4fd6-acd1-e3c7aec4f85f",
   "metadata": {},
   "outputs": [
    {
     "data": {
      "text/plain": [
       "(5938, 10)"
      ]
     },
     "execution_count": 11,
     "metadata": {},
     "output_type": "execute_result"
    }
   ],
   "source": [
    "recipe.shape"
   ]
  },
  {
   "cell_type": "code",
   "execution_count": null,
   "id": "2cba206a-8c58-4566-b2b6-965b41ad5c0c",
   "metadata": {},
   "outputs": [],
   "source": [
    "#name\n",
    "#totalingredients\n",
    "#steps\n",
    "#ingredients\n",
    "#url"
   ]
  },
  {
   "cell_type": "code",
   "execution_count": null,
   "id": "6aefe187-0c37-420f-b6dd-a4e2888710e4",
   "metadata": {},
   "outputs": [],
   "source": [
    "recipe=recipe[['name','totalingredients','steps','ingredients','url']]"
   ]
  },
  {
   "cell_type": "code",
   "execution_count": null,
   "id": "cddbd314-23e8-4059-83f6-e30d1ec7ccd2",
   "metadata": {},
   "outputs": [
    {
     "data": {
      "text/html": [
       "<div>\n",
       "<style scoped>\n",
       "    .dataframe tbody tr th:only-of-type {\n",
       "        vertical-align: middle;\n",
       "    }\n",
       "\n",
       "    .dataframe tbody tr th {\n",
       "        vertical-align: top;\n",
       "    }\n",
       "\n",
       "    .dataframe thead th {\n",
       "        text-align: right;\n",
       "    }\n",
       "</style>\n",
       "<table border=\"1\" class=\"dataframe\">\n",
       "  <thead>\n",
       "    <tr style=\"text-align: right;\">\n",
       "      <th></th>\n",
       "      <th>name</th>\n",
       "      <th>totalingredients</th>\n",
       "      <th>steps</th>\n",
       "      <th>ingredients</th>\n",
       "      <th>url</th>\n",
       "    </tr>\n",
       "  </thead>\n",
       "  <tbody>\n",
       "    <tr>\n",
       "      <th>0</th>\n",
       "      <td>Masala Karela Recipe</td>\n",
       "      <td>1 tablespoon Red Chilli powder,3 tablespoon Gr...</td>\n",
       "      <td>To begin making the Masala Karela Recipe,de-se...</td>\n",
       "      <td>salt,amchur (dry mango powder),karela (bitter ...</td>\n",
       "      <td>https://www.archanaskitchen.com/masala-karela-...</td>\n",
       "    </tr>\n",
       "    <tr>\n",
       "      <th>1</th>\n",
       "      <td>Spicy Tomato Rice (Recipe)</td>\n",
       "      <td>2 teaspoon cashew - or peanuts, 1/2 Teaspoon ...</td>\n",
       "      <td>To make tomato puliogere, first cut the tomato...</td>\n",
       "      <td>tomato,salt,chickpea lentils,green chilli,rice...</td>\n",
       "      <td>https://www.archanaskitchen.com/spicy-tomato-r...</td>\n",
       "    </tr>\n",
       "    <tr>\n",
       "      <th>2</th>\n",
       "      <td>Ragi Semiya Upma Recipe - Ragi Millet Vermicel...</td>\n",
       "      <td>1 Onion - sliced,1 teaspoon White Urad Dal (Sp...</td>\n",
       "      <td>To begin making the Ragi Vermicelli Recipe, fi...</td>\n",
       "      <td>salt,rice vermicelli noodles (thin),asafoetida...</td>\n",
       "      <td>https://www.archanaskitchen.com/ragi-vermicell...</td>\n",
       "    </tr>\n",
       "    <tr>\n",
       "      <th>3</th>\n",
       "      <td>Gongura Chicken Curry Recipe - Andhra Style Go...</td>\n",
       "      <td>1/2 teaspoon Turmeric powder (Haldi),1 tablesp...</td>\n",
       "      <td>To begin making Gongura Chicken Curry Recipe f...</td>\n",
       "      <td>tomato,salt,ginger,sorrel leaves (gongura),fen...</td>\n",
       "      <td>https://www.archanaskitchen.com/gongura-chicke...</td>\n",
       "    </tr>\n",
       "    <tr>\n",
       "      <th>4</th>\n",
       "      <td>Andhra Style Alam Pachadi Recipe - Adrak Chutn...</td>\n",
       "      <td>oil - as per use, 1 tablespoon coriander seed...</td>\n",
       "      <td>To make Andhra Style Alam Pachadi, first heat ...</td>\n",
       "      <td>tomato,salt,ginger,red chillies,curry,asafoeti...</td>\n",
       "      <td>https://www.archanaskitchen.com/andhra-style-a...</td>\n",
       "    </tr>\n",
       "  </tbody>\n",
       "</table>\n",
       "</div>"
      ],
      "text/plain": [
       "                                                name  \\\n",
       "0                               Masala Karela Recipe   \n",
       "1                         Spicy Tomato Rice (Recipe)   \n",
       "2  Ragi Semiya Upma Recipe - Ragi Millet Vermicel...   \n",
       "3  Gongura Chicken Curry Recipe - Andhra Style Go...   \n",
       "4  Andhra Style Alam Pachadi Recipe - Adrak Chutn...   \n",
       "\n",
       "                                    totalingredients  \\\n",
       "0  1 tablespoon Red Chilli powder,3 tablespoon Gr...   \n",
       "1   2 teaspoon cashew - or peanuts, 1/2 Teaspoon ...   \n",
       "2  1 Onion - sliced,1 teaspoon White Urad Dal (Sp...   \n",
       "3  1/2 teaspoon Turmeric powder (Haldi),1 tablesp...   \n",
       "4   oil - as per use, 1 tablespoon coriander seed...   \n",
       "\n",
       "                                               steps  \\\n",
       "0  To begin making the Masala Karela Recipe,de-se...   \n",
       "1  To make tomato puliogere, first cut the tomato...   \n",
       "2  To begin making the Ragi Vermicelli Recipe, fi...   \n",
       "3  To begin making Gongura Chicken Curry Recipe f...   \n",
       "4  To make Andhra Style Alam Pachadi, first heat ...   \n",
       "\n",
       "                                         ingredients  \\\n",
       "0  salt,amchur (dry mango powder),karela (bitter ...   \n",
       "1  tomato,salt,chickpea lentils,green chilli,rice...   \n",
       "2  salt,rice vermicelli noodles (thin),asafoetida...   \n",
       "3  tomato,salt,ginger,sorrel leaves (gongura),fen...   \n",
       "4  tomato,salt,ginger,red chillies,curry,asafoeti...   \n",
       "\n",
       "                                                 url  \n",
       "0  https://www.archanaskitchen.com/masala-karela-...  \n",
       "1  https://www.archanaskitchen.com/spicy-tomato-r...  \n",
       "2  https://www.archanaskitchen.com/ragi-vermicell...  \n",
       "3  https://www.archanaskitchen.com/gongura-chicke...  \n",
       "4  https://www.archanaskitchen.com/andhra-style-a...  "
      ]
     },
     "execution_count": 16,
     "metadata": {},
     "output_type": "execute_result"
    }
   ],
   "source": [
    "recipe.head()"
   ]
  },
  {
   "cell_type": "code",
   "execution_count": null,
   "id": "3a14aacb-4440-443a-a5b1-5bf0bfb73d3c",
   "metadata": {},
   "outputs": [
    {
     "data": {
      "text/plain": [
       "name                0\n",
       "totalingredients    0\n",
       "steps               0\n",
       "ingredients         0\n",
       "url                 0\n",
       "dtype: int64"
      ]
     },
     "execution_count": 17,
     "metadata": {},
     "output_type": "execute_result"
    }
   ],
   "source": [
    "recipe.isnull().sum()"
   ]
  },
  {
   "cell_type": "code",
   "execution_count": null,
   "id": "00dc8ab1-204d-413a-b232-d3ddac20bad8",
   "metadata": {},
   "outputs": [
    {
     "data": {
      "text/plain": [
       "0"
      ]
     },
     "execution_count": 18,
     "metadata": {},
     "output_type": "execute_result"
    }
   ],
   "source": [
    "recipe.duplicated().sum()"
   ]
  },
  {
   "cell_type": "code",
   "execution_count": null,
   "id": "d94ed4c3-3db6-4dc0-b4d9-8a28c9619101",
   "metadata": {},
   "outputs": [
    {
     "data": {
      "text/plain": [
       "'salt,amchur (dry mango powder),karela (bitter gourd pavakkai),red chilli powder,gram flour (besan),onion,cumin seeds (jeera),coriander powder,turmeric powder,sunflower oil'"
      ]
     },
     "execution_count": 21,
     "metadata": {},
     "output_type": "execute_result"
    }
   ],
   "source": [
    "recipe.iloc[0].ingredients"
   ]
  },
  {
   "cell_type": "code",
   "execution_count": null,
   "id": "baa9d290-c620-40db-8726-6cb1033a3719",
   "metadata": {},
   "outputs": [
    {
     "data": {
      "text/plain": [
       "'salt,amchur (dry mango powder),karela (bitter gourd pavakkai),red chilli powder,gram flour (besan),onion,cumin seeds (jeera),coriander powder,turmeric powder,sunflower oil'"
      ]
     },
     "execution_count": 22,
     "metadata": {},
     "output_type": "execute_result"
    }
   ],
   "source": [
    "recipe['ingredients'][0]"
   ]
  },
  {
   "cell_type": "code",
   "execution_count": null,
   "id": "12653223-c1bf-4adf-b2ae-c98696642cbd",
   "metadata": {},
   "outputs": [],
   "source": [
    "from sklearn.feature_extraction.text import TfidfVectorizer\n",
    "from sklearn.metrics.pairwise import linear_kernel"
   ]
  },
  {
   "cell_type": "code",
   "execution_count": null,
   "id": "29e0ab69-1d77-436e-8870-2064cd83b73f",
   "metadata": {},
   "outputs": [
    {
     "name": "stdout",
     "output_type": "stream",
     "text": [
      "Recommended Recipe: Andhra Style Alam Pachadi Recipe - Adrak Chutney (Recipe)\n",
      "\n",
      "Ingredients:  oil - as per use, 1 tablespoon coriander seeds, 1 Teaspoon mustard, 3 inches ginger - chop, 1 tomato - chop, asafoetida - a pinch,1 tablespoon chana dal, 2 red chillies, salt - as per taste, 1 sprig curry, 1 tablespoon white urad dal, 1 onion - chop\n",
      "\n",
      "Steps: To make Andhra Style Alam Pachadi, first heat oil in a pan.\n",
      "Add lentils and cook till it turns brown.\n",
      "Now add dry red chillies, coriander seeds, onion, ginger and cook till the onion becomes soft.\n",
      "After the onion is cooked, add tomatoes and cook till the tomatoes become soft.\n",
      "Turn off the gas and allow it to cool.\n",
      "After it cools down, put it in a mixer grinder and make a paste.\n",
      "For tempering, heat the oil in a small pan.\n",
      "Add mustard seeds and let it cook for 10 seconds.\n",
      "Now add curry leaves, asafoetida and let it cook for 10 seconds.\n",
      "Add it to the chutney and mix.\n",
      "Serve Andhra Style Alam Pachadi with Ghee Roast Dosa and Kirai Sambar for breakfast.\n",
      "\n",
      "Touch here for recipe Url: https://www.archanaskitchen.com/andhra-style-allam-pachadi-ginger-chutney-recipe-in-hindi\n"
     ]
    }
   ],
   "source": [
    "# Create a TfidfVectorizer to convert ingredients to a TF-IDF representation\n",
    "vectorizer = TfidfVectorizer()\n",
    "ingredients_matrix = vectorizer.fit_transform(recipe['ingredients'].apply(lambda x: ', '.join(x.split(', '))))\n",
    "\n",
    "def recommend_recipe(available_ingredients, recipe, vectorizer):\n",
    "    # Convert available ingredients to a TF-IDF representation\n",
    "    input_vector = vectorizer.transform([' '.join(available_ingredients)])\n",
    "\n",
    "    # Calculate cosine similarity between input and all recipes\n",
    "    cosine_similarities = linear_kernel(input_vector, ingredients_matrix).flatten()\n",
    "\n",
    "    # Get the index of the most similar recipe\n",
    "    recommended_index = cosine_similarities.argmax()\n",
    "\n",
    "    # Get the recommended recipe, its steps, all ingredients, total ingredients, and URL\n",
    "    recommended_recipe = recipe.iloc[recommended_index]['name']\n",
    "    recommended_steps = recipe.iloc[recommended_index]['steps']\n",
    "    recommended_totalingredients = recipe.iloc[recommended_index]['totalingredients']\n",
    "    recommended_ingredients = recipe.iloc[recommended_index]['ingredients']\n",
    "    recommended_url = recipe.iloc[recommended_index]['url']\n",
    "\n",
    "    return recommended_recipe, recommended_steps, recommended_ingredients,recommended_totalingredients , recommended_url\n",
    "\n",
    "# Example usage for recommendation\n",
    "available_ingredients = ['tomato','salt','ginger','red chillies','curry','asafoetida','mustard','chana dal','onion','oil','coriander seeds','white urad dal']\n",
    "recommended_recipe, recommended_steps, recommended_ingredients, recommended_totalingredients, recommended_url = recommend_recipe(available_ingredients, recipe, vectorizer)\n",
    "\n",
    "# Print all information with each piece on a new line\n",
    "print(\"Recommended Recipe:\", recommended_recipe)\n",
    "# print(\"\\nAll Ingredients:\", recommended_ingredients)\n",
    "print(\"\\nIngredients:\", recommended_totalingredients)\n",
    "print(\"\\nSteps:\", recommended_steps)\n",
    "print(\"\\nTouch here for recipe Url:\", recommended_url)\n"
   ]
  },
  {
   "cell_type": "code",
   "execution_count": null,
   "id": "cbfc8ef4-3317-49ca-8474-6c126739fec5",
   "metadata": {},
   "outputs": [],
   "source": []
  }
 ],
 "metadata": {
  "kernelspec": {
   "display_name": "Python 3 (ipykernel)",
   "language": "python",
   "name": "python3"
  },
  "language_info": {
   "codemirror_mode": {
    "name": "ipython",
    "version": 3
   },
   "file_extension": ".py",
   "mimetype": "text/x-python",
   "name": "python",
   "nbconvert_exporter": "python",
   "pygments_lexer": "ipython3",
   "version": "3.11.0"
  }
 },
 "nbformat": 4,
 "nbformat_minor": 5
}
